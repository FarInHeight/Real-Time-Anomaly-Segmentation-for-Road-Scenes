{
  "nbformat": 4,
  "nbformat_minor": 0,
  "metadata": {
    "colab": {
      "provenance": []
    },
    "kernelspec": {
      "name": "python3",
      "display_name": "Python 3"
    },
    "language_info": {
      "name": "python"
    }
  },
  "cells": [
    {
      "cell_type": "markdown",
      "source": [
        "[![Open In Colab](https://colab.research.google.com/assets/colab-badge.svg)](https://colab.research.google.com/github/FarInHeight/Real-Time-Anomaly-Segmentation-for-Road-Scenes/AML_Project.ipynb)"
      ],
      "metadata": {
        "id": "B0kgVqcGcO_7"
      }
    },
    {
      "cell_type": "code",
      "source": [],
      "metadata": {
        "id": "Ksk8Po_6cgpp"
      },
      "execution_count": null,
      "outputs": []
    }
  ]
}