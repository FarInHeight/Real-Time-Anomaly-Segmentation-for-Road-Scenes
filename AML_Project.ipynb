{
  "nbformat": 4,
  "nbformat_minor": 0,
  "metadata": {
    "colab": {
      "provenance": []
    },
    "kernelspec": {
      "name": "python3",
      "display_name": "Python 3"
    },
    "language_info": {
      "name": "python"
    }
  },
  "cells": [
    {
      "cell_type": "markdown",
      "source": [
        "[![Open In Colab](https://colab.research.google.com/assets/colab-badge.svg)](https://colab.research.google.com/github/FarInHeight/Real-Time-Anomaly-Segmentation-for-Road-Scenes/AML_Project.ipynb)"
      ],
      "metadata": {
        "id": "B0kgVqcGcO_7"
      }
    },
    {
      "cell_type": "code",
      "source": [
        "# download the github repo\n",
        "!git clone https://github.com/FarInHeight/Real-Time-Anomaly-Segmentation-for-Road-Scenes\n",
        "!mv Real-Time-Anomaly-Segmentation-for-Road-Scenes/* .\n",
        "!rm -r Real-Time-Anomaly-Segmentation-for-Road-Scenes/\n",
        "\n",
        "# download required packages\n",
        "!pip3 install cityscapesscripts\n",
        "!pip3 install numpy\n",
        "!pip3 install matplotlib\n",
        "!pip3 install Pillow\n",
        "!pip3 install torchvision\n",
        "!pip3 install visdom\n",
        "\n",
        "# download the datasets\n",
        "!gdown '1r2eFANvSlcUjxcerjC8l6dRa0slowMpx'\n",
        "!unzip -q 'Validation_Dataset.zip' -d 'validation_dataset'"
      ],
      "metadata": {
        "id": "Ksk8Po_6cgpp"
      },
      "execution_count": null,
      "outputs": []
    },
    {
      "cell_type": "markdown",
      "source": [
        "## Run code"
      ],
      "metadata": {
        "id": "erm3TONlpmYr"
      }
    },
    {
      "cell_type": "code",
      "source": [
        "# change directory\n",
        "%cd train\n",
        "# run a python file\n",
        "%run main"
      ],
      "metadata": {
        "id": "qpLYXj5zezM7"
      },
      "execution_count": null,
      "outputs": []
    }
  ]
}