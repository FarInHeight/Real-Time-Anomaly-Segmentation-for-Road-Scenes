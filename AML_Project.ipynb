{
 "cells": [
  {
   "cell_type": "markdown",
   "metadata": {
    "id": "B0kgVqcGcO_7"
   },
   "source": [
    "[![Open In Colab](https://colab.research.google.com/assets/colab-badge.svg)](https://colab.research.google.com/github/FarInHeight/Real-Time-Anomaly-Segmentation-for-Road-Scenes/blob/main/AML_Project.ipynb)"
   ]
  },
  {
   "cell_type": "code",
   "execution_count": null,
   "metadata": {
    "id": "Ksk8Po_6cgpp"
   },
   "outputs": [],
   "source": [
    "# download the github repo\n",
    "!git clone https://github.com/FarInHeight/Real-Time-Anomaly-Segmentation-for-Road-Scenes\n",
    "!mv Real-Time-Anomaly-Segmentation-for-Road-Scenes/* .\n",
    "!rm -r Real-Time-Anomaly-Segmentation-for-Road-Scenes/\n",
    "\n",
    "# download required packages\n",
    "!pip3 install cityscapesscripts\n",
    "!pip3 install numpy\n",
    "!pip3 install matplotlib\n",
    "!pip3 install Pillow\n",
    "!pip3 install torchvision\n",
    "!pip3 install visdom\n",
    "!pip3 install ood_metrics\n",
    "\n",
    "# download the datasets\n",
    "!wget -O 'Validation_Dataset.zip' 'https://drive.usercontent.google.com/download?id=1r2eFANvSlcUjxcerjC8l6dRa0slowMpx&confirm=t&uuid=38f0f93e-78a6-4678-a7d1-1c11598cc0a8'\n",
    "!csDownload leftImg8bit_trainvaltest.zip\n",
    "!csDownload gtFine_trainvaltest.zip\n",
    "\n",
    "# unzip the datasets\n",
    "!unzip -q 'Validation_Dataset.zip'\n",
    "!mkdir validation_dataset && cp -pR Validation_Dataset/* validation_dataset/ && rm -R Validation_Dataset/\n",
    "!unzip -q 'leftImg8bit_trainvaltest.zip' -d 'cityscapes'\n",
    "!unzip -o -q 'gtFine_trainvaltest.zip' -d 'cityscapes'\n",
    "\n",
    "# generate trainIds from labelIds\n",
    "!CITYSCAPES_DATASET='cityscapes/' csCreateTrainIdLabelImgs"
   ]
  },
  {
   "cell_type": "markdown",
   "metadata": {
    "id": "erm3TONlpmYr"
   },
   "source": [
    "## Run code"
   ]
  },
  {
   "cell_type": "markdown",
   "metadata": {
    "id": "cyhbmv78j4rd"
   },
   "source": [
    "### Fill in table 2.A"
   ]
  },
  {
   "cell_type": "code",
   "execution_count": 1,
   "metadata": {
    "colab": {
     "base_uri": "https://localhost:8080/"
    },
    "id": "qpLYXj5zezM7",
    "outputId": "183c87b4-a710-4b3a-9704-c561c27545e4"
   },
   "outputs": [
    {
     "name": "stdout",
     "output_type": "stream",
     "text": [
      "c:\\Users\\David\\Documents\\Polito\\Github Repo\\Real-Time-Anomaly-Segmentation-for-Road-Scenes\\eval\n"
     ]
    }
   ],
   "source": [
    "# change directory\n",
    "%cd eval\n",
    "!rm results.txt iou_results.txt"
   ]
  },
  {
   "cell_type": "code",
   "execution_count": null,
   "metadata": {
    "id": "0p9JOaM0L3Mo"
   },
   "outputs": [],
   "source": [
    "# run a python file\n",
    "%run evalAnomaly --method=\"msp\" --input='/content/validation_dataset/RoadAnomaly21/images/*.png'\n",
    "%run evalAnomaly --method=\"msp\" --input='/content/validation_dataset/RoadObsticle21/images/*.webp'\n",
    "%run evalAnomaly --method=\"msp\" --input='/content/validation_dataset/FS_LostFound_full/images/*.png'\n",
    "%run evalAnomaly --method=\"msp\" --input='/content/validation_dataset/fs_static/images/*.jpg'\n",
    "%run evalAnomaly --method=\"msp\" --input='/content/validation_dataset/RoadAnomaly/images/*.jpg'\n",
    "%run evalAnomaly --method=\"maxlogit\" --input='/content/validation_dataset/RoadAnomaly21/images/*.png'\n",
    "%run evalAnomaly --method=\"maxlogit\" --input='/content/validation_dataset/RoadObsticle21/images/*.webp'\n",
    "%run evalAnomaly --method=\"maxlogit\" --input='/content/validation_dataset/FS_LostFound_full/images/*.png'\n",
    "%run evalAnomaly --method=\"maxlogit\" --input='/content/validation_dataset/fs_static/images/*.jpg'\n",
    "%run evalAnomaly --method=\"maxlogit\" --input='/content/validation_dataset/RoadAnomaly/images/*.jpg'\n",
    "%run evalAnomaly --method=\"maxentropy\" --input='/content/validation_dataset/RoadAnomaly21/images/*.png'\n",
    "%run evalAnomaly --method=\"maxentropy\" --input='/content/validation_dataset/RoadObsticle21/images/*.webp'\n",
    "%run evalAnomaly --method=\"maxentropy\" --input='/content/validation_dataset/FS_LostFound_full/images/*.png'\n",
    "%run evalAnomaly --method=\"maxentropy\" --input='/content/validation_dataset/fs_static/images/*.jpg'\n",
    "%run evalAnomaly --method=\"maxentropy\" --input='/content/validation_dataset/RoadAnomaly/images/*.jpg'"
   ]
  },
  {
   "cell_type": "code",
   "execution_count": null,
   "metadata": {
    "colab": {
     "base_uri": "https://localhost:8080/"
    },
    "id": "fUYD9LTx3joE",
    "outputId": "32ac2cf2-1915-4064-e1ee-77720fe8659f"
   },
   "outputs": [],
   "source": [
    "%run eval_iou.py --datadir '/content/cityscapes/' --subset 'val'"
   ]
  },
  {
   "cell_type": "markdown",
   "metadata": {
    "id": "P2XahVO3ffxF"
   },
   "source": [
    "### Fill in table 2.B"
   ]
  },
  {
   "cell_type": "markdown",
   "metadata": {
    "id": "GzWTVzfrgIIy"
   },
   "source": [
    "#### Temperature scaling on _RoadAnomaly21_"
   ]
  },
  {
   "cell_type": "code",
   "execution_count": null,
   "metadata": {
    "id": "1AzfgHq0gMMQ"
   },
   "outputs": [],
   "source": [
    "%run evalAnomaly.py --method='msp' --input='/content/validation_dataset/RoadAnomaly21/images/*.png'\n",
    "%run evalAnomaly.py --method='msp' --temperature=0.5 --input='/content/validation_dataset/RoadAnomaly21/images/*.png'\n",
    "%run evalAnomaly.py --method='msp' --temperature=0.75 --input='/content/validation_dataset/RoadAnomaly21/images/*.png'\n",
    "%run evalAnomaly.py --method='msp' --temperature=1.1 --input='/content/validation_dataset/RoadAnomaly21/images/*.png'"
   ]
  },
  {
   "cell_type": "markdown",
   "metadata": {
    "id": "sXE8JmBIgDsu"
   },
   "source": [
    "#### Temperature scaling on _RoadObsticle21_"
   ]
  },
  {
   "cell_type": "code",
   "execution_count": null,
   "metadata": {
    "id": "Q0apkI-xgASi"
   },
   "outputs": [],
   "source": [
    "%run evalAnomaly.py --method='msp' --input='/content/validation_dataset/RoadObsticle21/images/*.webp'\n",
    "%run evalAnomaly.py --method='msp' --temperature=0.5 --input='/content/validation_dataset/RoadObsticle21/images/*.webp'\n",
    "%run evalAnomaly.py --method='msp' --temperature=0.75 --input='/content/validation_dataset/RoadObsticle21/images/*.webp'\n",
    "%run evalAnomaly.py --method='msp' --temperature=1.1 --input='/content/validation_dataset/RoadObsticle21/images/*.webp'"
   ]
  },
  {
   "cell_type": "markdown",
   "metadata": {
    "id": "TxbHW2f9f5tu"
   },
   "source": [
    "#### Temperature scaling on _FS_LostFound_full_"
   ]
  },
  {
   "cell_type": "code",
   "execution_count": null,
   "metadata": {
    "id": "0_dPzGIOf6R5"
   },
   "outputs": [],
   "source": [
    "%run evalAnomaly.py --method='msp' --input='/content/validation_dataset/FS_LostFound_full/images/*.png'\n",
    "%run evalAnomaly.py --method='msp' --temperature=0.5 --input='/content/validation_dataset/FS_LostFound_full/images/*.png'\n",
    "%run evalAnomaly.py --method='msp' --temperature=0.75 --input='/content/validation_dataset/FS_LostFound_full/images/*.png'\n",
    "%run evalAnomaly.py --method='msp' --temperature=1.1 --input='/content/validation_dataset/FS_LostFound_full/images/*.png'"
   ]
  },
  {
   "cell_type": "markdown",
   "metadata": {
    "id": "SC7C5J-zfqGo"
   },
   "source": [
    "#### Temperature scaling on _fs_static_"
   ]
  },
  {
   "cell_type": "code",
   "execution_count": null,
   "metadata": {
    "id": "njFowQXefyrF"
   },
   "outputs": [],
   "source": [
    "%run evalAnomaly.py --method='msp' --input='/content/validation_dataset/fs_static/images/*.jpg'\n",
    "%run evalAnomaly.py --method='msp' --temperature=0.5 --input='/content/validation_dataset/fs_static/images/*.jpg'\n",
    "%run evalAnomaly.py --method='msp' --temperature=0.75 --input='/content/validation_dataset/fs_static/images/*.jpg'\n",
    "%run evalAnomaly.py --method='msp' --temperature=1.1 --input='/content/validation_dataset/fs_static/images/*.jpg'"
   ]
  },
  {
   "cell_type": "markdown",
   "metadata": {
    "id": "YjEp58TEfnhB"
   },
   "source": [
    "#### Temperature scaling on _RoadAnomaly_"
   ]
  },
  {
   "cell_type": "code",
   "execution_count": null,
   "metadata": {
    "id": "5JylVgbLfk3P"
   },
   "outputs": [],
   "source": [
    "%run evalAnomaly.py --method='msp' --input='/content/validation_dataset/RoadAnomaly/images/*.jpg'\n",
    "%run evalAnomaly.py --method='msp' --temperature=0.5 --input='/content/validation_dataset/RoadAnomaly/images/*.jpg'\n",
    "%run evalAnomaly.py --method='msp' --temperature=0.75 --input='/content/validation_dataset/RoadAnomaly/images/*.jpg'\n",
    "%run evalAnomaly.py --method='msp' --temperature=1.1 --input='/content/validation_dataset/RoadAnomaly/images/*.jpg'"
   ]
  },
  {
   "cell_type": "markdown",
   "metadata": {
    "id": "k7fYOn2rgrDI"
   },
   "source": [
    "#### Search grid"
   ]
  },
  {
   "cell_type": "code",
   "execution_count": null,
   "metadata": {
    "id": "RsGepBSagwyA"
   },
   "outputs": [],
   "source": [
    "\n",
    "%run evalAnomaly --method=\"msp\" --temperature=0.05 --input='/content/validation_dataset/RoadAnomaly21/images/*.png'\n",
    "%run evalAnomaly --method=\"msp\" --temperature=0.05 --input='/content/validation_dataset/RoadObsticle21/images/*.webp'\n",
    "%run evalAnomaly --method=\"msp\" --temperature=0.05 --input='/content/validation_dataset/FS_LostFound_full/images/*.png'\n",
    "%run evalAnomaly --method=\"msp\" --temperature=0.05 --input='/content/validation_dataset/fs_static/images/*.jpg'\n",
    "%run evalAnomaly --method=\"msp\" --temperature=0.05 --input='/content/validation_dataset/RoadAnomaly/images/*.jpg'\n",
    "%run evalAnomaly --method=\"msp\" --temperature=0.1 --input='/content/validation_dataset/RoadAnomaly21/images/*.png'\n",
    "%run evalAnomaly --method=\"msp\" --temperature=0.1 --input='/content/validation_dataset/RoadObsticle21/images/*.webp'\n",
    "%run evalAnomaly --method=\"msp\" --temperature=0.1 --input='/content/validation_dataset/FS_LostFound_full/images/*.png'\n",
    "%run evalAnomaly --method=\"msp\" --temperature=0.1 --input='/content/validation_dataset/fs_static/images/*.jpg'\n",
    "%run evalAnomaly --method=\"msp\" --temperature=0.1 --input='/content/validation_dataset/RoadAnomaly/images/*.jpg'\n",
    "%run evalAnomaly --method=\"msp\" --temperature=0.15 --input='/content/validation_dataset/RoadAnomaly21/images/*.png'\n",
    "%run evalAnomaly --method=\"msp\" --temperature=0.15 --input='/content/validation_dataset/RoadObsticle21/images/*.webp'\n",
    "%run evalAnomaly --method=\"msp\" --temperature=0.15 --input='/content/validation_dataset/FS_LostFound_full/images/*.png'\n",
    "%run evalAnomaly --method=\"msp\" --temperature=0.15 --input='/content/validation_dataset/fs_static/images/*.jpg'\n",
    "%run evalAnomaly --method=\"msp\" --temperature=0.15 --input='/content/validation_dataset/RoadAnomaly/images/*.jpg'\n",
    "%run evalAnomaly --method=\"msp\" --temperature=0.20 --input='/content/validation_dataset/RoadAnomaly21/images/*.png'\n",
    "%run evalAnomaly --method=\"msp\" --temperature=0.20 --input='/content/validation_dataset/RoadObsticle21/images/*.webp'\n",
    "%run evalAnomaly --method=\"msp\" --temperature=0.20 --input='/content/validation_dataset/FS_LostFound_full/images/*.png'\n",
    "%run evalAnomaly --method=\"msp\" --temperature=0.20 --input='/content/validation_dataset/fs_static/images/*.jpg'\n",
    "%run evalAnomaly --method=\"msp\" --temperature=0.20 --input='/content/validation_dataset/RoadAnomaly/images/*.jpg'\n",
    "%run evalAnomaly --method=\"msp\" --temperature=0.25 --input='/content/validation_dataset/RoadAnomaly21/images/*.png'\n",
    "%run evalAnomaly --method=\"msp\" --temperature=0.25 --input='/content/validation_dataset/RoadObsticle21/images/*.webp'\n",
    "%run evalAnomaly --method=\"msp\" --temperature=0.25 --input='/content/validation_dataset/FS_LostFound_full/images/*.png'\n",
    "%run evalAnomaly --method=\"msp\" --temperature=0.25 --input='/content/validation_dataset/fs_static/images/*.jpg'\n",
    "%run evalAnomaly --method=\"msp\" --temperature=0.25 --input='/content/validation_dataset/RoadAnomaly/images/*.jpg'\n",
    "%run evalAnomaly --method=\"msp\" --temperature=0.3 --input='/content/validation_dataset/RoadAnomaly21/images/*.png'\n",
    "%run evalAnomaly --method=\"msp\" --temperature=0.3 --input='/content/validation_dataset/RoadObsticle21/images/*.webp'\n",
    "%run evalAnomaly --method=\"msp\" --temperature=0.3 --input='/content/validation_dataset/FS_LostFound_full/images/*.png'\n",
    "%run evalAnomaly --method=\"msp\" --temperature=0.3 --input='/content/validation_dataset/fs_static/images/*.jpg'\n",
    "%run evalAnomaly --method=\"msp\" --temperature=0.3 --input='/content/validation_dataset/RoadAnomaly/images/*.jpg'\n",
    "%run evalAnomaly --method=\"msp\" --temperature=0.35 --input='/content/validation_dataset/RoadAnomaly21/images/*.png'\n",
    "%run evalAnomaly --method=\"msp\" --temperature=0.35 --input='/content/validation_dataset/RoadObsticle21/images/*.webp'\n",
    "%run evalAnomaly --method=\"msp\" --temperature=0.35 --input='/content/validation_dataset/FS_LostFound_full/images/*.png'\n",
    "%run evalAnomaly --method=\"msp\" --temperature=0.35 --input='/content/validation_dataset/fs_static/images/*.jpg'\n",
    "%run evalAnomaly --method=\"msp\" --temperature=0.35 --input='/content/validation_dataset/RoadAnomaly/images/*.jpg'\n",
    "%run evalAnomaly --method=\"msp\" --temperature=0.4 --input='/content/validation_dataset/RoadAnomaly21/images/*.png'\n",
    "%run evalAnomaly --method=\"msp\" --temperature=0.4 --input='/content/validation_dataset/RoadObsticle21/images/*.webp'\n",
    "%run evalAnomaly --method=\"msp\" --temperature=0.4 --input='/content/validation_dataset/FS_LostFound_full/images/*.png'\n",
    "%run evalAnomaly --method=\"msp\" --temperature=0.4 --input='/content/validation_dataset/fs_static/images/*.jpg'\n",
    "%run evalAnomaly --method=\"msp\" --temperature=0.4 --input='/content/validation_dataset/RoadAnomaly/images/*.jpg'\n",
    "%run evalAnomaly --method=\"msp\" --temperature=0.45 --input='/content/validation_dataset/RoadAnomaly21/images/*.png'\n",
    "%run evalAnomaly --method=\"msp\" --temperature=0.45 --input='/content/validation_dataset/RoadObsticle21/images/*.webp'\n",
    "%run evalAnomaly --method=\"msp\" --temperature=0.45 --input='/content/validation_dataset/FS_LostFound_full/images/*.png'\n",
    "%run evalAnomaly --method=\"msp\" --temperature=0.45 --input='/content/validation_dataset/fs_static/images/*.jpg'\n",
    "%run evalAnomaly --method=\"msp\" --temperature=0.45 --input='/content/validation_dataset/RoadAnomaly/images/*.jpg'\n",
    "%run evalAnomaly --method=\"msp\" --temperature=0.55 --input='/content/validation_dataset/RoadAnomaly21/images/*.png'\n",
    "%run evalAnomaly --method=\"msp\" --temperature=0.55 --input='/content/validation_dataset/RoadObsticle21/images/*.webp'\n",
    "%run evalAnomaly --method=\"msp\" --temperature=0.55 --input='/content/validation_dataset/FS_LostFound_full/images/*.png'\n",
    "%run evalAnomaly --method=\"msp\" --temperature=0.55 --input='/content/validation_dataset/fs_static/images/*.jpg'\n",
    "%run evalAnomaly --method=\"msp\" --temperature=0.55 --input='/content/validation_dataset/RoadAnomaly/images/*.jpg'\n",
    "%run evalAnomaly --method=\"msp\" --temperature=0.6 --input='/content/validation_dataset/RoadAnomaly21/images/*.png'\n",
    "%run evalAnomaly --method=\"msp\" --temperature=0.6 --input='/content/validation_dataset/RoadObsticle21/images/*.webp'\n",
    "%run evalAnomaly --method=\"msp\" --temperature=0.6 --input='/content/validation_dataset/FS_LostFound_full/images/*.png'\n",
    "%run evalAnomaly --method=\"msp\" --temperature=0.6 --input='/content/validation_dataset/fs_static/images/*.jpg'\n",
    "%run evalAnomaly --method=\"msp\" --temperature=0.6 --input='/content/validation_dataset/RoadAnomaly/images/*.jpg'\n",
    "%run evalAnomaly --method=\"msp\" --temperature=0.65 --input='/content/validation_dataset/RoadAnomaly21/images/*.png'\n",
    "%run evalAnomaly --method=\"msp\" --temperature=0.65 --input='/content/validation_dataset/RoadObsticle21/images/*.webp'\n",
    "%run evalAnomaly --method=\"msp\" --temperature=0.65 --input='/content/validation_dataset/FS_LostFound_full/images/*.png'\n",
    "%run evalAnomaly --method=\"msp\" --temperature=0.65 --input='/content/validation_dataset/fs_static/images/*.jpg'\n",
    "%run evalAnomaly --method=\"msp\" --temperature=0.65 --input='/content/validation_dataset/RoadAnomaly/images/*.jpg'\n",
    "%run evalAnomaly --method=\"msp\" --temperature=0.7 --input='/content/validation_dataset/RoadAnomaly21/images/*.png'\n",
    "%run evalAnomaly --method=\"msp\" --temperature=0.7 --input='/content/validation_dataset/RoadObsticle21/images/*.webp'\n",
    "%run evalAnomaly --method=\"msp\" --temperature=0.7 --input='/content/validation_dataset/FS_LostFound_full/images/*.png'\n",
    "%run evalAnomaly --method=\"msp\" --temperature=0.7 --input='/content/validation_dataset/fs_static/images/*.jpg'\n",
    "%run evalAnomaly --method=\"msp\" --temperature=0.7 --input='/content/validation_dataset/RoadAnomaly/images/*.jpg'"
   ]
  },
  {
   "cell_type": "markdown",
   "metadata": {},
   "source": [
    "#### Other tests with values close to zero"
   ]
  },
  {
   "cell_type": "code",
   "execution_count": null,
   "metadata": {},
   "outputs": [],
   "source": [
    "# 10e-2 10e-3 10e-4 10e-5 10e-6\n",
    "%run evalAnomaly --method=\"msp\" --temperature=1e-02 --input='/content/validation_dataset/RoadAnomaly21/images/*.png'\n",
    "%run evalAnomaly --method=\"msp\" --temperature=1e-02 --input='/content/validation_dataset/RoadObsticle21/images/*.webp'\n",
    "%run evalAnomaly --method=\"msp\" --temperature=1e-02 --input='/content/validation_dataset/FS_LostFound_full/images/*.png'\n",
    "%run evalAnomaly --method=\"msp\" --temperature=1e-02 --input='/content/validation_dataset/fs_static/images/*.jpg'\n",
    "%run evalAnomaly --method=\"msp\" --temperature=1e-02 --input='/content/validation_dataset/RoadAnomaly/images/*.jpg'\n",
    "%run evalAnomaly --method=\"msp\" --temperature=1e-03 --input='/content/validation_dataset/RoadAnomaly21/images/*.png'\n",
    "%run evalAnomaly --method=\"msp\" --temperature=1e-03 --input='/content/validation_dataset/RoadObsticle21/images/*.webp'\n",
    "%run evalAnomaly --method=\"msp\" --temperature=1e-03 --input='/content/validation_dataset/FS_LostFound_full/images/*.png'\n",
    "%run evalAnomaly --method=\"msp\" --temperature=1e-03 --input='/content/validation_dataset/fs_static/images/*.jpg'\n",
    "%run evalAnomaly --method=\"msp\" --temperature=1e-03 --input='/content/validation_dataset/RoadAnomaly/images/*.jpg'\n",
    "%run evalAnomaly --method=\"msp\" --temperature=1e-04 --input='/content/validation_dataset/RoadAnomaly21/images/*.png'\n",
    "%run evalAnomaly --method=\"msp\" --temperature=1e-04 --input='/content/validation_dataset/RoadObsticle21/images/*.webp'\n",
    "%run evalAnomaly --method=\"msp\" --temperature=1e-04 --input='/content/validation_dataset/FS_LostFound_full/images/*.png'\n",
    "%run evalAnomaly --method=\"msp\" --temperature=1e-04 --input='/content/validation_dataset/fs_static/images/*.jpg'\n",
    "%run evalAnomaly --method=\"msp\" --temperature=1e-04 --input='/content/validation_dataset/RoadAnomaly/images/*.jpg'\n",
    "%run evalAnomaly --method=\"msp\" --temperature=1e-05 --input='/content/validation_dataset/RoadAnomaly21/images/*.png'\n",
    "%run evalAnomaly --method=\"msp\" --temperature=1e-05 --input='/content/validation_dataset/RoadObsticle21/images/*.webp'\n",
    "%run evalAnomaly --method=\"msp\" --temperature=1e-05 --input='/content/validation_dataset/FS_LostFound_full/images/*.png'\n",
    "%run evalAnomaly --method=\"msp\" --temperature=1e-05 --input='/content/validation_dataset/fs_static/images/*.jpg'\n",
    "%run evalAnomaly --method=\"msp\" --temperature=1e-05 --input='/content/validation_dataset/RoadAnomaly/images/*.jpg'\n",
    "%run evalAnomaly --method=\"msp\" --temperature=1e-06 --input='/content/validation_dataset/RoadAnomaly21/images/*.png'\n",
    "%run evalAnomaly --method=\"msp\" --temperature=1e-06 --input='/content/validation_dataset/RoadObsticle21/images/*.webp'\n",
    "%run evalAnomaly --method=\"msp\" --temperature=1e-06 --input='/content/validation_dataset/FS_LostFound_full/images/*.png'\n",
    "%run evalAnomaly --method=\"msp\" --temperature=1e-06 --input='/content/validation_dataset/fs_static/images/*.jpg'\n",
    "%run evalAnomaly --method=\"msp\" --temperature=1e-06 --input='/content/validation_dataset/RoadAnomaly/images/*.jpg'"
   ]
  },
  {
   "cell_type": "markdown",
   "metadata": {},
   "source": [
    "## Void Classifier (Fill in table 3)"
   ]
  },
  {
   "cell_type": "code",
   "execution_count": null,
   "metadata": {},
   "outputs": [],
   "source": [
    "%run eval_iou.py --datadir '/content/cityscapes/' --loadWeights='enet_pretrained.pth' --loadModel='enet.py' --subset 'val'\n",
    "%run eval_iou.py --datadir '/content/cityscapes/' --loadWeights='erfnet_pretrained.pth' --loadModel='erfnet.py' --subset 'val'\n",
    "%run eval_iou.py --datadir '/content/cityscapes/' --loadWeights='bisenet_pretrained.pth' --loadModel='bisenetv1.py' --subset 'val'"
   ]
  },
  {
   "cell_type": "code",
   "execution_count": null,
   "metadata": {},
   "outputs": [],
   "source": [
    "%run evalAnomaly --method=\"void\" --input='/content/validation_dataset/RoadAnomaly21/images/*.png'\n",
    "%run evalAnomaly --method=\"void\" --input='/content/validation_dataset/RoadObsticle21/images/*.webp'\n",
    "%run evalAnomaly --method=\"void\" --input='/content/validation_dataset/FS_LostFound_full/images/*.png'\n",
    "%run evalAnomaly --method=\"void\" --input='/content/validation_dataset/fs_static/images/*.jpg'\n",
    "%run evalAnomaly --method=\"void\" --input='/content/validation_dataset/RoadAnomaly/images/*.jpg'"
   ]
  },
  {
   "cell_type": "code",
   "execution_count": null,
   "metadata": {},
   "outputs": [],
   "source": [
    "%run evalAnomaly --method=\"void\" --loadWeights='enet_pretrained.pth' --loadModel='enet.py' --input='/content/validation_dataset/RoadAnomaly21/images/*.png'\n",
    "%run evalAnomaly --method=\"void\" --loadWeights='enet_pretrained.pth' --loadModel='enet.py' --input='/content/validation_dataset/RoadObsticle21/images/*.webp'\n",
    "%run evalAnomaly --method=\"void\" --loadWeights='enet_pretrained.pth' --loadModel='enet.py' --input='/content/validation_dataset/FS_LostFound_full/images/*.png'\n",
    "%run evalAnomaly --method=\"void\" --loadWeights='enet_pretrained.pth' --loadModel='enet.py' --input='/content/validation_dataset/fs_static/images/*.jpg'\n",
    "%run evalAnomaly --method=\"void\" --loadWeights='enet_pretrained.pth' --loadModel='enet.py' --input='/content/validation_dataset/RoadAnomaly/images/*.jpg'"
   ]
  },
  {
   "cell_type": "code",
   "execution_count": null,
   "metadata": {},
   "outputs": [],
   "source": [
    "%run evalAnomaly --method=\"void\" --loadWeights='bisenet_pretrained.pth' --loadModel='bisenetv1.py' --input='/content/validation_dataset/RoadAnomaly21/images/*.png'\n",
    "%run evalAnomaly --method=\"void\" --loadWeights='bisenet_pretrained.pth' --loadModel='bisenetv1.py' --input='/content/validation_dataset/RoadObsticle21/images/*.webp'\n",
    "%run evalAnomaly --method=\"void\" --loadWeights='bisenet_pretrained.pth' --loadModel='bisenetv1.py' --input='/content/validation_dataset/FS_LostFound_full/images/*.png'\n",
    "%run evalAnomaly --method=\"void\" --loadWeights='bisenet_pretrained.pth' --loadModel='bisenetv1.py' --input='/content/validation_dataset/fs_static/images/*.jpg'\n",
    "%run evalAnomaly --method=\"void\" --loadWeights='bisenet_pretrained.pth' --loadModel='bisenetv1.py' --input='/content/validation_dataset/RoadAnomaly/images/*.jpg'"
   ]
  },
  {
   "cell_type": "markdown",
   "metadata": {},
   "source": [
    "### Training BiSeNetV1"
   ]
  },
  {
   "cell_type": "code",
   "execution_count": null,
   "metadata": {},
   "outputs": [],
   "source": [
    "%cd train"
   ]
  },
  {
   "cell_type": "code",
   "execution_count": null,
   "metadata": {},
   "outputs": [],
   "source": [
    "# start train\n",
    "%run main.py --datadir '/content/cityscapes' --savedir bisenet_training3 --num-epochs 300 --batch-size 16 --model bisenetv1 --colab --download-step 10"
   ]
  },
  {
   "cell_type": "code",
   "execution_count": null,
   "metadata": {},
   "outputs": [],
   "source": [
    "# resume training\n",
    "%run main.py --datadir '/content/cityscapes' --savedir bisenet_training3 --num-epochs 300 --batch-size 16 --model bisenetv1 --colab --download-step 10 --resume"
   ]
  }
 ],
 "metadata": {
  "accelerator": "GPU",
  "colab": {
   "gpuType": "T4",
   "provenance": []
  },
  "kernelspec": {
   "display_name": "Python 3",
   "name": "python3"
  },
  "language_info": {
   "codemirror_mode": {
    "name": "ipython",
    "version": 3
   },
   "file_extension": ".py",
   "mimetype": "text/x-python",
   "name": "python",
   "nbconvert_exporter": "python",
   "pygments_lexer": "ipython3",
   "version": "3.11.5"
  }
 },
 "nbformat": 4,
 "nbformat_minor": 0
}
